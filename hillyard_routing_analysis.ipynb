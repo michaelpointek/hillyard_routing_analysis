{
 "cells": [
  {
   "cell_type": "code",
   "execution_count": null,
   "id": "65cf876c-dac4-4c40-becd-7a0f8d58be73",
   "metadata": {},
   "outputs": [],
   "source": [
    "import pandas as pd\n",
    "import numpy as np\n",
    "from sklearn.cluster import KMeans\n",
    "import matplotlib.pyplot as plt\n",
    "from sklearn.metrics import calinski_harabasz_score"
   ]
  },
  {
   "cell_type": "code",
   "execution_count": null,
   "id": "6d95dcf1-b360-47f6-bb9a-63f3ddcef4c7",
   "metadata": {},
   "outputs": [],
   "source": [
    "file_path = r\"C:\\Users\\mipo\\OneDrive - Hillyard, Inc\\Desktop\\GitHub\\hillyard_routing_analysis\\Resources\\Lancaster.csv\"\n",
    "data = pd.read_csv(file_path)"
   ]
  },
  {
   "cell_type": "code",
   "execution_count": null,
   "id": "1346c334-5c1d-4a0a-bcd6-d781e083cbe5",
   "metadata": {},
   "outputs": [],
   "source": [
    "selected_columns = ['Latitude', 'Longitude']\n",
    "X = data[selected_columns]\n",
    "#, 'Total Orders', 'Total Deliveries', 'Avg. Revenue' - removed from range"
   ]
  },
  {
   "cell_type": "code",
   "execution_count": null,
   "id": "090e900e-37fc-44ad-9d47-47404f3cd74a",
   "metadata": {},
   "outputs": [],
   "source": [
    "X.fillna(0, inplace=True)"
   ]
  },
  {
   "cell_type": "code",
   "execution_count": null,
   "id": "8c4484a7-185b-4458-842e-e6b8ca80aac6",
   "metadata": {},
   "outputs": [],
   "source": [
    "#determine the range of the amount of clusters to analyze\n",
    "k_values = range(2,8)\n",
    "ch_scores = []\n",
    "\n",
    "for k in k_values:\n",
    "    kmeans =  KMeans(n_clusters=k)\n",
    "    kmeans.fit(X)\n",
    "    labels = kmeans.labels_\n",
    "    ch_score = calinski_harabasz_score(X, labels)\n",
    "    ch_scores.append(ch_score)"
   ]
  },
  {
   "cell_type": "code",
   "execution_count": null,
   "id": "f9aab23c-90d5-4a80-9b85-1053d2e97809",
   "metadata": {},
   "outputs": [],
   "source": [
    "plt.figure(figsize=(20, 12))\n",
    "plt.plot(k_values, ch_scores, marker='o')\n",
    "plt.xlabel('Number of Clusters (k)')\n",
    "plt.ylabel('Calinski-Harabasz Score')\n",
    "plt.title('Calinski-Harabasz Score for Different Values of k')\n",
    "plt.xticks(k_values)\n",
    "plt.grid(True)\n",
    "plt.show()"
   ]
  },
  {
   "cell_type": "code",
   "execution_count": null,
   "id": "4239f27e-211e-44fe-811a-e8f0e7f4dba0",
   "metadata": {},
   "outputs": [],
   "source": [
    "k = k_values[np.argmax(ch_scores)]\n",
    "k"
   ]
  },
  {
   "cell_type": "code",
   "execution_count": null,
   "id": "2b4b7e4b-8ac6-4a3a-911d-dc920c31469c",
   "metadata": {},
   "outputs": [],
   "source": [
    "kmeans = KMeans(n_clusters=k)\n",
    "kmeans.fit(X)\n",
    "labels = kmeans.labels_\n",
    "centroids = kmeans.cluster_centers_"
   ]
  },
  {
   "cell_type": "code",
   "execution_count": null,
   "id": "d64b8970-95a0-4bb6-b2d5-faa4e9bf9f92",
   "metadata": {},
   "outputs": [],
   "source": [
    "plt.scatter(X.iloc[:, 0], X.iloc[:, 1], c=labels, cmap='viridis')\n",
    "plt.scatter(centroids[:, 0], centroids[:, 1], c='red', marker='x')\n",
    "plt.title('K-means Clustering')\n",
    "plt.xlabel('Latitude')\n",
    "plt.ylabel('Longitude')\n",
    "plt.show()"
   ]
  },
  {
   "cell_type": "code",
   "execution_count": null,
   "id": "43c38842-68a8-43e3-9391-1fffb32d3ec9",
   "metadata": {},
   "outputs": [],
   "source": [
    "print(\"Cluster Centroids:\")\n",
    "for i, centroid in enumerate(centroids):\n",
    "    print(f\"Cluster {i+1}: Latitude = {centroid[0]}, Longitude = {centroid[1]}\")"
   ]
  },
  {
   "cell_type": "code",
   "execution_count": null,
   "id": "4e8cb89f-48a4-45db-8b42-a6269bba71c2",
   "metadata": {},
   "outputs": [],
   "source": [
    "cluster_centroids_df = pd.DataFrame(centroids, columns=X.columns)\n",
    "cluster_centroids_df"
   ]
  },
  {
   "cell_type": "code",
   "execution_count": null,
   "id": "e571ea5e-bd7b-44d2-853f-d12c1b824b07",
   "metadata": {},
   "outputs": [],
   "source": [
    "cluster_counts = pd.Series(labels).value_counts().sort_index()\n",
    "cluster_centroids_df['Location Count'] = cluster_counts.values\n",
    "cluster_centroids_df"
   ]
  },
  {
   "cell_type": "code",
   "execution_count": null,
   "id": "834c4890-14fd-4b9b-bb56-d4bc2fb2b227",
   "metadata": {},
   "outputs": [],
   "source": [
    "data['Cluster'] = labels\n",
    "data"
   ]
  },
  {
   "cell_type": "code",
   "execution_count": null,
   "id": "7fc3cd73-9822-4650-b1b4-d3e46f7b0fb2",
   "metadata": {},
   "outputs": [],
   "source": [
    "cluster_centroids_df.to_csv(\"1430_cluster_centroids_2.csv\", index=False)\n",
    "data.to_csv(\"1430_custered_stops_2.csv\", index=False)"
   ]
  },
  {
   "cell_type": "code",
   "execution_count": null,
   "id": "68425757-663b-49ce-bad7-88c2a988dfb6",
   "metadata": {},
   "outputs": [],
   "source": []
  }
 ],
 "metadata": {
  "kernelspec": {
   "display_name": "Python 3 (ipykernel)",
   "language": "python",
   "name": "python3"
  },
  "language_info": {
   "codemirror_mode": {
    "name": "ipython",
    "version": 3
   },
   "file_extension": ".py",
   "mimetype": "text/x-python",
   "name": "python",
   "nbconvert_exporter": "python",
   "pygments_lexer": "ipython3",
   "version": "3.11.5"
  }
 },
 "nbformat": 4,
 "nbformat_minor": 5
}
